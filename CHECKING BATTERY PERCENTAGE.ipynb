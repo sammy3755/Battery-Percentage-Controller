{
 "cells": [
  {
   "cell_type": "code",
   "execution_count": 10,
   "metadata": {},
   "outputs": [
    {
     "name": "stdout",
     "output_type": "stream",
     "text": [
      "ExternalPower 0\n",
      "BatteryLifePercent 63\n",
      "BatteryLifeTime 9600\n",
      "Not connected to mains\n"
     ]
    }
   ],
   "source": [
    "import ctypes\n",
    "from ctypes import wintypes\n",
    "\n",
    "\n",
    "class SYSTEM_POWER_STATUS(ctypes.Structure):\n",
    "    _fields_ = [\n",
    "        ('ExternalPower', wintypes.BYTE),\n",
    "        ('BatteryFlag', wintypes.BYTE),\n",
    "        ('BatteryLifePercent', wintypes.BYTE),\n",
    "        ('Reserved1', wintypes.BYTE),\n",
    "        ('BatteryLifeTime', wintypes.DWORD)\n",
    "        ]\n",
    "\n",
    "SYSTEM_POWER_STATUS_P = ctypes.POINTER(SYSTEM_POWER_STATUS)\n",
    "GetSystemPowerStatus = ctypes.windll.kernel32.GetSystemPowerStatus\n",
    "GetSystemPowerStatus.argtypes = [SYSTEM_POWER_STATUS_P]\n",
    "GetSystemPowerStatus.restype = wintypes.BOOL\n",
    "\n",
    "status = SYSTEM_POWER_STATUS()\n",
    "if not GetSystemPowerStatus(ctypes.pointer(status)):\n",
    "        raise cytpes.WinError()\n",
    "print('ExternalPower',status.ExternalPower)\n",
    "#print 'BatteryFlag', status.BatteryFlag\n",
    "print('BatteryLifePercent',status.BatteryLifePercent)\n",
    "print('BatteryLifeTime',status.BatteryLifeTime)\n",
    "\n",
    "if status.ExternalPower == True and status.BatteryLifePercent == 100:\n",
    "    print('Connected to mains and at 100% charge: Begining decharge')\n",
    "    # This is where I would like to force battery use. Perhaps with a while\n",
    " #loop (that ticks every 60 seconds or so)\n",
    "    if status.BatteryLifePercent > 10 :\n",
    "        status.ExternalPower = 0\n",
    "\n",
    "elif status.ExternalPower == True and status.BatteryLifePercent < 100:\n",
    "    print('Connected to mains and charging up to 100%')\n",
    "    status.ExternalPower = 1\n",
    "\n",
    "elif status.ExternalPower == False:\n",
    "    print('Not connected to mains')\n",
    "\n",
    "else:\n",
    "    print(' Unknown system status')\n",
    "\n"
   ]
  },
  {
   "cell_type": "code",
   "execution_count": 9,
   "metadata": {},
   "outputs": [
    {
     "name": "stdout",
     "output_type": "stream",
     "text": [
      "ACLineStatus 0\n",
      "BatteryFlag 0\n",
      "BatteryLifePercent 63\n",
      "BatteryLifeTime 9600\n",
      "BatteryFullLifeTime 4294967295\n"
     ]
    }
   ],
   "source": [
    "# Get power status of the system using ctypes to call GetSystemPowerStatus\n",
    "\n",
    "import ctypes\n",
    "from ctypes import wintypes\n",
    "\n",
    "class SYSTEM_POWER_STATUS(ctypes.Structure):\n",
    "    _fields_ = [\n",
    "        ('ACLineStatus', wintypes.BYTE),\n",
    "        ('BatteryFlag', wintypes.BYTE),\n",
    "        ('BatteryLifePercent', wintypes.BYTE),\n",
    "        ('Reserved1', wintypes.BYTE),\n",
    "        ('BatteryLifeTime', wintypes.DWORD),\n",
    "        ('BatteryFullLifeTime', wintypes.DWORD),\n",
    "    ]\n",
    "\n",
    "SYSTEM_POWER_STATUS_P = ctypes.POINTER(SYSTEM_POWER_STATUS)\n",
    "\n",
    "GetSystemPowerStatus = ctypes.windll.kernel32.GetSystemPowerStatus\n",
    "GetSystemPowerStatus.argtypes = [SYSTEM_POWER_STATUS_P]\n",
    "GetSystemPowerStatus.restype = wintypes.BOOL\n",
    "\n",
    "status = SYSTEM_POWER_STATUS()\n",
    "if not GetSystemPowerStatus(ctypes.pointer(status)):\n",
    "    raise ctypes.WinError()\n",
    "print('ACLineStatus', status.ACLineStatus)\n",
    "print('BatteryFlag', status.BatteryFlag)\n",
    "print('BatteryLifePercent', status.BatteryLifePercent)\n",
    "print('BatteryLifeTime', status.BatteryLifeTime)\n",
    "print('BatteryFullLifeTime', status.BatteryFullLifeTime)"
   ]
  },
  {
   "cell_type": "code",
   "execution_count": 5,
   "metadata": {},
   "outputs": [
    {
     "data": {
      "text/plain": [
       "''"
      ]
     },
     "execution_count": 5,
     "metadata": {},
     "output_type": "execute_result"
    }
   ],
   "source": [
    "import subprocess\n",
    "cmd = 'acpi -b'\n",
    "\n",
    "# for python 3.7+\n",
    "p = subprocess.run(cmd.split(), shell=True, capture_output=True)\n",
    "battery_info, error = p.stdout.decode(), p.stderr.decode()\n",
    "\n",
    "# for python3.x (x<6)\n",
    "#battery_info = subprocess.check_output(cmd.split(), shell=True).decode('utf-8')\n",
    "\n",
    "battery_info"
   ]
  },
  {
   "cell_type": "code",
   "execution_count": 8,
   "metadata": {},
   "outputs": [
    {
     "data": {
      "text/plain": [
       "sbattery(percent=63, secsleft=9600, power_plugged=False)"
      ]
     },
     "execution_count": 8,
     "metadata": {},
     "output_type": "execute_result"
    }
   ],
   "source": [
    "import psutil\n",
    "has_battery = psutil.sensors_battery() is not None\n",
    "\n",
    "import psutil\n",
    "psutil.sensors_battery()\n",
    "#has_battery(percent=99, secsleft=20308, power_plugged=True)\n",
    "#psutil.sensors_battery().power_plugged\n",
    "#True"
   ]
  },
  {
   "cell_type": "code",
   "execution_count": null,
   "metadata": {},
   "outputs": [],
   "source": []
  }
 ],
 "metadata": {
  "kernelspec": {
   "display_name": "Python 3 (ipykernel)",
   "language": "python",
   "name": "python3"
  },
  "language_info": {
   "codemirror_mode": {
    "name": "ipython",
    "version": 3
   },
   "file_extension": ".py",
   "mimetype": "text/x-python",
   "name": "python",
   "nbconvert_exporter": "python",
   "pygments_lexer": "ipython3",
   "version": "3.10.9"
  }
 },
 "nbformat": 4,
 "nbformat_minor": 2
}
